{
 "cells": [
  {
   "cell_type": "markdown",
   "metadata": {},
   "source": [
    "## 練習時間\n",
    "在小量的資料上，我們用眼睛就可以看得出來程式碼是否有跑出我們理想中的結果\n",
    "\n",
    "請嘗試想像一個你需要的資料結構 (裡面的值可以是隨機的)，然後用上述的方法把它變成 pandas DataFrame\n",
    "\n",
    "#### Ex: 想像一個 dataframe 有兩個欄位，一個是國家，一個是人口，求人口數最多的國家\n",
    "\n",
    "### Hints: [隨機產生數值](https://blog.csdn.net/christianashannon/article/details/78867204)"
   ]
  },
  {
   "cell_type": "code",
   "execution_count": 4,
   "metadata": {},
   "outputs": [],
   "source": [
    "import pandas as pd\n",
    "import numpy as np"
   ]
  },
  {
   "cell_type": "code",
   "execution_count": 12,
   "metadata": {},
   "outputs": [
    {
     "name": "stdout",
     "output_type": "stream",
     "text": [
      "{'國家': ['台灣', '日本', '英國', '新加坡', '泰國', '馬來西亞', '印尼', '美國', '加拿大', '緬甸'], '人口': [171651225, 145555925, 54505126, 239626379, 8462518, 219688548, 7715790, 156082814, 203480078, 297707244]}\n",
      "     國家         人口\n",
      "0    台灣  171651225\n",
      "1    日本  145555925\n",
      "2    英國   54505126\n",
      "3   新加坡  239626379\n",
      "4    泰國    8462518\n",
      "5  馬來西亞  219688548\n",
      "6    印尼    7715790\n",
      "7    美國  156082814\n",
      "8   加拿大  203480078\n",
      "9    緬甸  297707244\n"
     ]
    }
   ],
   "source": [
    "num_people = np.random.randint(5000000, 300000000, size=10)\n",
    "list_people = []\n",
    "for i in num_people:\n",
    "    list_people.append(i)\n",
    "    \n",
    "data = {'國家':['台灣', '日本', '英國', '新加坡', '泰國', '馬來西亞', '印尼', '美國', '加拿大', '緬甸' ] ,\n",
    "        '人口': list_people}\n",
    "print(data)\n",
    "data = pd.DataFrame(data)\n",
    "print(data)"
   ]
  },
  {
   "cell_type": "code",
   "execution_count": 26,
   "metadata": {},
   "outputs": [
    {
     "name": "stdout",
     "output_type": "stream",
     "text": [
      "人口最多的國家為:\n",
      "\n",
      "   國家         人口\n",
      "9  緬甸  297707244\n"
     ]
    }
   ],
   "source": [
    "people_sort = data.sort_values(by='人口' , ascending=False)\n",
    "people_most = people_sort.head(1)\n",
    "print(\"人口最多的國家為:\\n\")\n",
    "print(people_most)"
   ]
  }
 ],
 "metadata": {
  "kernelspec": {
   "display_name": "Python 3",
   "language": "python",
   "name": "python3"
  },
  "language_info": {
   "codemirror_mode": {
    "name": "ipython",
    "version": 3
   },
   "file_extension": ".py",
   "mimetype": "text/x-python",
   "name": "python",
   "nbconvert_exporter": "python",
   "pygments_lexer": "ipython3",
   "version": "3.6.5"
  }
 },
 "nbformat": 4,
 "nbformat_minor": 2
}
